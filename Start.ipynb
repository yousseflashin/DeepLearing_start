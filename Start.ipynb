{
  "nbformat": 4,
  "nbformat_minor": 0,
  "metadata": {
    "colab": {
      "provenance": [],
      "authorship_tag": "ABX9TyOckHYrXilV6TQ0OM2l2K/Z",
      "include_colab_link": true
    },
    "kernelspec": {
      "name": "python3",
      "display_name": "Python 3"
    },
    "language_info": {
      "name": "python"
    }
  },
  "cells": [
    {
      "cell_type": "markdown",
      "metadata": {
        "id": "view-in-github",
        "colab_type": "text"
      },
      "source": [
        "<a href=\"https://colab.research.google.com/github/yousseflashin/DeepLearing_start/blob/main/Start.ipynb\" target=\"_parent\"><img src=\"https://colab.research.google.com/assets/colab-badge.svg\" alt=\"Open In Colab\"/></a>"
      ]
    },
    {
      "cell_type": "markdown",
      "source": [
        "Settin numby"
      ],
      "metadata": {
        "id": "ELc5jZTQXxLG"
      }
    },
    {
      "cell_type": "code",
      "source": [
        "!pip install numpy"
      ],
      "metadata": {
        "id": "BpP8rUKtc1np"
      },
      "execution_count": null,
      "outputs": []
    },
    {
      "cell_type": "code",
      "source": [
        "import numpy as np"
      ],
      "metadata": {
        "id": "KqDMBtwCdOTe"
      },
      "execution_count": null,
      "outputs": []
    },
    {
      "cell_type": "code",
      "source": [
        "\n",
        "#define array of np's\n",
        "my_array=np.array([10,20,30,40])\n",
        "print(my_array)\n",
        "print(type(my_array))\n",
        "print(my_array.shape)\n",
        "print(my_array[1])\n",
        "my_array[3]=55\n",
        "print( *(value for value in my_array) )\n",
        "print(my_array[0:3]) #from 0 to 2 not taking the 3 index"
      ],
      "metadata": {
        "id": "dSVayTfNelwF"
      },
      "execution_count": null,
      "outputs": []
    },
    {
      "cell_type": "code",
      "source": [
        "\n",
        "my_array=np.array([[10,20,30,40],[50,60,70,80]])\n",
        "print(my_array)\n",
        "print(type(my_array))\n",
        "print(my_array.shape)\n",
        "print(my_array[1])\n",
        "print(my_array[0:1,1:2])\n",
        "my_array[1][3]=55\n",
        "for value in my_array:\n",
        "  print(value)\n",
        "  for mvalue in value:\n",
        "    print(mvalue)\n"
      ],
      "metadata": {
        "id": "rjkm5WxKfZWP"
      },
      "execution_count": null,
      "outputs": []
    },
    {
      "cell_type": "code",
      "source": [
        "All_zero_array=np.zeros((3,3))\n",
        "print(All_zero_array)"
      ],
      "metadata": {
        "colab": {
          "base_uri": "https://localhost:8080/"
        },
        "id": "wZo--HTFm9UO",
        "outputId": "233a9dcc-0df0-41f8-cfa0-5cbb45e748ac"
      },
      "execution_count": 35,
      "outputs": [
        {
          "output_type": "stream",
          "name": "stdout",
          "text": [
            "[[0. 0. 0.]\n",
            " [0. 0. 0.]\n",
            " [0. 0. 0.]]\n"
          ]
        }
      ]
    },
    {
      "cell_type": "code",
      "source": [
        "All_one_array=np.ones((3,3))\n",
        "print(All_one_array)"
      ],
      "metadata": {
        "colab": {
          "base_uri": "https://localhost:8080/"
        },
        "id": "1YiPokJFz37D",
        "outputId": "6af3ed40-89c0-4474-b659-a055561f219a"
      },
      "execution_count": 36,
      "outputs": [
        {
          "output_type": "stream",
          "name": "stdout",
          "text": [
            "[[1. 1. 1.]\n",
            " [1. 1. 1.]\n",
            " [1. 1. 1.]]\n"
          ]
        }
      ]
    },
    {
      "cell_type": "code",
      "source": [
        "idesntity_type_array=np.eye((3))# spacify only the the number of one because this type of aray are square form\n",
        "print(idesntity_type_array)"
      ],
      "metadata": {
        "colab": {
          "base_uri": "https://localhost:8080/"
        },
        "id": "m7TWmwPj75nD",
        "outputId": "449d8582-7a38-4b49-8fcb-c1b0f80f797f"
      },
      "execution_count": 37,
      "outputs": [
        {
          "output_type": "stream",
          "name": "stdout",
          "text": [
            "[[1. 0. 0.]\n",
            " [0. 1. 0.]\n",
            " [0. 0. 1.]]\n"
          ]
        }
      ]
    },
    {
      "cell_type": "code",
      "source": [
        "constant_type_array=np.full((4,4),7)\n",
        "print(constant_type_array)"
      ],
      "metadata": {
        "colab": {
          "base_uri": "https://localhost:8080/"
        },
        "id": "e6WT8iRP8tUV",
        "outputId": "84f2652e-8461-4110-b447-1cabb84d4f28"
      },
      "execution_count": 39,
      "outputs": [
        {
          "output_type": "stream",
          "name": "stdout",
          "text": [
            "[[7 7 7 7]\n",
            " [7 7 7 7]\n",
            " [7 7 7 7]\n",
            " [7 7 7 7]]\n"
          ]
        }
      ]
    },
    {
      "cell_type": "code",
      "source": [
        "random_array_type=np.random.random((3,3))\n",
        "print(random_array_type)"
      ],
      "metadata": {
        "colab": {
          "base_uri": "https://localhost:8080/"
        },
        "id": "EWsZD4Jg9EZ5",
        "outputId": "fc1d2481-7fcf-49ee-b5a3-19e31a90fd6c"
      },
      "execution_count": 40,
      "outputs": [
        {
          "output_type": "stream",
          "name": "stdout",
          "text": [
            "[[0.64297006 0.88700662 0.2964551 ]\n",
            " [0.30285714 0.14029063 0.63939674]\n",
            " [0.5586696  0.67372455 0.34240144]]\n"
          ]
        }
      ]
    }
  ]
}